{
 "cells": [
  {
   "cell_type": "code",
   "execution_count": 9,
   "metadata": {},
   "outputs": [],
   "source": [
    "import matplotlib.pyplot as plt\n",
    "import pandas as pd\n",
    "from sklearn.linear_model import LogisticRegression\n",
    "from sklearn.model_selection import train_test_split\n",
    "import seaborn as sns\n",
    "from sklearn.metrics import f1_score\n",
    "import warnings\n",
    "from sklearn import metrics\n",
    "warnings.filterwarnings(\"ignore\")\n",
    "\n",
    "# Load the dataset\n",
    "crops = pd.read_csv(\"./soil_measures.csv\")"
   ]
  },
  {
   "cell_type": "markdown",
   "metadata": {},
   "source": [
    "#### <b> Predição 1 </b> - Com base nas features (N, P, K, Ph) que representa a composição do solo, o modelo tentara prever quais serão o tipo de plantação (café, arroz, banana, etc...)"
   ]
  },
  {
   "cell_type": "code",
   "execution_count": 10,
   "metadata": {},
   "outputs": [],
   "source": [
    "X = crops.drop(columns='crop')\n",
    "y = crops['crop']"
   ]
  },
  {
   "cell_type": "code",
   "execution_count": 11,
   "metadata": {},
   "outputs": [
    {
     "data": {
      "text/plain": [
       "array(['rice', 'maize', 'chickpea', 'kidneybeans', 'pigeonpeas',\n",
       "       'mothbeans', 'mungbean', 'blackgram', 'lentil', 'pomegranate',\n",
       "       'banana', 'mango', 'grapes', 'watermelon', 'muskmelon', 'apple',\n",
       "       'orange', 'papaya', 'coconut', 'cotton', 'jute', 'coffee'],\n",
       "      dtype=object)"
      ]
     },
     "execution_count": 11,
     "metadata": {},
     "output_type": "execute_result"
    }
   ],
   "source": [
    "y.unique()"
   ]
  },
  {
   "cell_type": "code",
   "execution_count": 12,
   "metadata": {},
   "outputs": [],
   "source": [
    "y_dummie = pd.get_dummies(y)"
   ]
  },
  {
   "cell_type": "code",
   "execution_count": 13,
   "metadata": {},
   "outputs": [],
   "source": [
    "X_train, X_test, y_train, y_test = train_test_split(X, y_dummie, random_state=42)"
   ]
  },
  {
   "cell_type": "code",
   "execution_count": 14,
   "metadata": {},
   "outputs": [],
   "source": [
    "from sklearn.preprocessing import StandardScaler\n",
    "\n",
    "scaler = StandardScaler()\n",
    "X_train_scaled = scaler.fit_transform(X_train)\n",
    "X_test_scaled = scaler.transform(X_test)"
   ]
  },
  {
   "cell_type": "code",
   "execution_count": 15,
   "metadata": {},
   "outputs": [],
   "source": [
    "y_train_dummie = pd.get_dummies(y_train)\n",
    "y_test_dummie = pd.get_dummies(y_test)"
   ]
  },
  {
   "cell_type": "code",
   "execution_count": 16,
   "metadata": {},
   "outputs": [
    {
     "name": "stdout",
     "output_type": "stream",
     "text": [
      "F1-score for apple: 0.9454867894030473\n",
      "F1-score for banana: 0.9838026748665049\n",
      "F1-score for blackgram: 0.9393928118393234\n",
      "F1-score for chickpea: 0.9300794885366852\n",
      "F1-score for coconut: 0.9392669883918091\n",
      "F1-score for coffee: 0.934031209893279\n",
      "F1-score for cotton: 0.9885372908388075\n",
      "F1-score for grapes: 0.9606520959172742\n",
      "F1-score for jute: 0.9269812759467931\n",
      "F1-score for kidneybeans: 0.9356598790150805\n",
      "F1-score for lentil: 0.9686657051317341\n",
      "F1-score for maize: 0.9368097330179115\n",
      "F1-score for mango: 0.9299234481443951\n",
      "F1-score for mothbeans: 0.934031209893279\n",
      "F1-score for mungbean: 0.9296631115625529\n",
      "F1-score for muskmelon: 0.9569550996134405\n",
      "F1-score for orange: 0.9884696651985031\n",
      "F1-score for papaya: 0.9162717918190323\n",
      "F1-score for pigeonpeas: 0.9222229845626072\n",
      "F1-score for pomegranate: 0.9375028480291637\n",
      "F1-score for rice: 0.9323467230443974\n",
      "F1-score for watermelon: 0.9717168787856818\n"
     ]
    }
   ],
   "source": [
    "feature_performance = {}\n",
    "\n",
    "for target_values in y_train.columns:\n",
    "    logreg = LogisticRegression()\n",
    "    logreg.fit(X_train_scaled, y_train[target_values].values.reshape(-1, 1))\n",
    "    y_pred = logreg.predict(X_test_scaled)\n",
    "    f1_score_result = metrics.f1_score(y_test[target_values].values, y_pred, average='weighted')\n",
    "    feature_performance[target_values] = f1_score_result\n",
    "    print(f\"F1-score for {target_values}: {f1_score_result}\")\n",
    "    \n",
    "feature_performance_ordered = sorted(feature_performance.items(), key=lambda x: x[1], reverse=True)"
   ]
  },
  {
   "cell_type": "markdown",
   "metadata": {},
   "source": [
    "#### <b> Predição 2 </b> - Com base em cada uma das features (N, P, K, Ph) treinadas individuamente, o modelo tentara prever a coluna target (\"crop\")"
   ]
  },
  {
   "cell_type": "code",
   "execution_count": 17,
   "metadata": {},
   "outputs": [],
   "source": [
    "X = crops.drop('crop', axis=1)\n",
    "y = crops['crop']"
   ]
  },
  {
   "cell_type": "code",
   "execution_count": 18,
   "metadata": {},
   "outputs": [],
   "source": [
    "X_train, X_test, y_train, y_test = train_test_split(X, y, random_state=42, test_size=0.3)"
   ]
  },
  {
   "cell_type": "code",
   "execution_count": 21,
   "metadata": {},
   "outputs": [
    {
     "name": "stdout",
     "output_type": "stream",
     "text": [
      "F1-score for N: 0.09576259237897118\n",
      "F1-score for P: 0.12412171549213565\n",
      "F1-score for K: 0.23186703393490551\n",
      "F1-score for ph: 0.06551334017644783\n"
     ]
    }
   ],
   "source": [
    "features_names = X.columns.unique()\n",
    "feature_performance = {}\n",
    "\n",
    "for fn in features_names:\n",
    "    model = LogisticRegression(multi_class='multinomial')\n",
    "    model.fit(X_train[fn].values.reshape(-1,1), y_train.values.reshape(-1,1))\n",
    "    y_pred = model.predict(X_test[fn].values.reshape(-1,1))\n",
    "    feature_performance[fn] = metrics.f1_score(y_test.values.reshape(-1, 1), y_pred, average='weighted')\n",
    "    print(f\"F1-score for {fn}: {feature_performance[fn]}\")\n",
    "\n",
    "best_predictive_feature = sorted(feature_performance.items(), key=lambda x: x[1], reverse=True)\n",
    "    "
   ]
  },
  {
   "cell_type": "code",
   "execution_count": 31,
   "metadata": {},
   "outputs": [
    {
     "data": {
      "text/plain": [
       "('K', 0.23186703393490551)"
      ]
     },
     "execution_count": 31,
     "metadata": {},
     "output_type": "execute_result"
    }
   ],
   "source": [
    "max(feature_performance.items(), key=lambda x: x[1])"
   ]
  }
 ],
 "metadata": {
  "kernelspec": {
   "display_name": "Python 3",
   "language": "python",
   "name": "python3"
  },
  "language_info": {
   "codemirror_mode": {
    "name": "ipython",
    "version": 3
   },
   "file_extension": ".py",
   "mimetype": "text/x-python",
   "name": "python",
   "nbconvert_exporter": "python",
   "pygments_lexer": "ipython3",
   "version": "3.11.4"
  }
 },
 "nbformat": 4,
 "nbformat_minor": 2
}
